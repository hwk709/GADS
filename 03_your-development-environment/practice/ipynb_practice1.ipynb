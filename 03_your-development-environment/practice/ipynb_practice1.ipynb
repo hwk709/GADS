{
 "cells": [
  {
   "cell_type": "markdown",
   "metadata": {},
   "source": [
    "<img src=\"http://imgur.com/1ZcRyrc.png\" style=\"float: left; margin: 20px; height: 55px\">\n",
    "\n",
    "## Practice: Familiarize yourself with the Jupyter Notebook!\n",
    "\n",
    "_Authors: Kiefer Katovich (San Francisco), Dave Yerrington (San Francisco), Sam Stack (Washington, D.C.)_"
   ]
  },
  {
   "cell_type": "markdown",
   "metadata": {
    "slideshow": {
     "slide_type": "slide"
    }
   },
   "source": [
    "1. Run each block of code\n",
    "2. Check for errors\n",
    "3. When you think you're error free, flag down a teaching team member to confirm"
   ]
  },
  {
   "cell_type": "code",
   "execution_count": 1,
   "metadata": {},
   "outputs": [
    {
     "ename": "NameError",
     "evalue": "name 'a' is not defined",
     "output_type": "error",
     "traceback": [
      "\u001b[0;31m---------------------------------------------------------------------------\u001b[0m",
      "\u001b[0;31mNameError\u001b[0m                                 Traceback (most recent call last)",
      "\u001b[0;32m<ipython-input-1-b2bfc0cb05ed>\u001b[0m in \u001b[0;36m<module>\u001b[0;34m()\u001b[0m\n\u001b[1;32m      1\u001b[0m \u001b[0;31m# This is what an error looks like\u001b[0m\u001b[0;34m\u001b[0m\u001b[0;34m\u001b[0m\u001b[0m\n\u001b[0;32m----> 2\u001b[0;31m \u001b[0mprint\u001b[0m\u001b[0;34m(\u001b[0m\u001b[0ma\u001b[0m\u001b[0;34m)\u001b[0m\u001b[0;34m\u001b[0m\u001b[0m\n\u001b[0m",
      "\u001b[0;31mNameError\u001b[0m: name 'a' is not defined"
     ]
    }
   ],
   "source": [
    "# This is what an error looks like\n",
    "print(a)"
   ]
  },
  {
   "cell_type": "markdown",
   "metadata": {},
   "source": [
    "# Objectives\n",
    "### Get comfortable with IPython Notebook\n",
    "\n",
    "* How to start IPython Notebook\n",
    "* How to read data into pandas\n",
    "* How to do simple manipulations on pandas dataframes\n",
    "\n",
    "\n",
    "## Start a notebook:\n",
    "For each class, we'll be using a set of common data science libraries and tools, like the IPython notebook. You can start an IPython notebook by running\n",
    "\n",
    "```\n",
    "jupyter notebook $NAME_OF_FILE\n",
    "```"
   ]
  },
  {
   "cell_type": "markdown",
   "metadata": {
    "slideshow": {
     "slide_type": "slide"
    }
   },
   "source": [
    "\n",
    "## Try it yourself!\n",
    "Read and run the block of code below by: \n",
    "1. Clicking on it and pressing the play button above or\n",
    "2. Using a short cut- (help --> keyboard shortcuts)"
   ]
  },
  {
   "cell_type": "code",
   "execution_count": 1,
   "metadata": {
    "ExecuteTime": {
     "end_time": "2020-04-29T17:20:16.348650Z",
     "start_time": "2020-04-29T17:20:12.188930Z"
    },
    "scrolled": true,
    "slideshow": {
     "slide_type": "skip"
    }
   },
   "outputs": [],
   "source": [
    "%matplotlib inline\n",
    "import matplotlib.pyplot as plt\n",
    "import matplotlib as mpl\n",
    "import pandas as pd\n",
    "\n",
    "mpl.rcParams['figure.figsize'] = (15, 6)\n",
    "pd.set_option('display.width', 4000)\n",
    "pd.set_option('display.max_columns', 100)"
   ]
  },
  {
   "cell_type": "markdown",
   "metadata": {},
   "source": [
    "# First: Read in the data\n",
    "### Review Simple Commands\n",
    "\n",
    "Practice downloading and reading into sample data"
   ]
  },
  {
   "cell_type": "code",
   "execution_count": 9,
   "metadata": {
    "ExecuteTime": {
     "end_time": "2020-04-29T17:26:26.093555Z",
     "start_time": "2020-04-29T17:26:03.265555Z"
    }
   },
   "outputs": [],
   "source": [
    "# Download and read the data (this may take more than 1 minute)\n",
    "orig_data = pd.read_csv('../assets/datasets/311-service-requests.csv', parse_dates=['Created Date'], low_memory=False)"
   ]
  },
  {
   "cell_type": "code",
   "execution_count": 3,
   "metadata": {
    "ExecuteTime": {
     "end_time": "2020-04-29T17:20:39.491542Z",
     "start_time": "2020-04-29T17:20:37.712319Z"
    },
    "scrolled": true
   },
   "outputs": [
    {
     "data": {
      "image/png": "[encoded data removed]",
      "text/plain": [
       "<Figure size 432x288 with 1 Axes>"
      ]
     },
     "metadata": {
      "needs_background": "light"
     },
     "output_type": "display_data"
    }
   ],
   "source": [
    "plt.scatter(orig_data['Longitude'], orig_data['Latitude'], marker='.', color=\"purple\");"
   ]
  },
  {
   "cell_type": "markdown",
   "metadata": {
    "slideshow": {
     "slide_type": "slide"
    }
   },
   "source": [
    "## Try this Example: \n",
    "Graph the number of noise complaints each hour in New York"
   ]
  },
  {
   "cell_type": "code",
   "execution_count": 10,
   "metadata": {
    "ExecuteTime": {
     "end_time": "2020-04-29T17:26:26.125558Z",
     "start_time": "2020-04-29T17:26:26.097546Z"
    },
    "slideshow": {
     "slide_type": "fragment"
    }
   },
   "outputs": [],
   "source": [
    "complaints = orig_data[['Created Date', 'Complaint Type']]\n",
    "noise_complaints = complaints[complaints['Complaint Type'] == 'Noise - Street/Sidewalk']\n",
    "\n",
    "#noise_complaints.set_index('Created Date').sort_index()#.resample('H', how=len).plot();"
   ]
  },
  {
   "cell_type": "code",
   "execution_count": 16,
   "metadata": {
    "ExecuteTime": {
     "end_time": "2020-04-29T17:32:38.406705Z",
     "start_time": "2020-04-29T17:32:37.869914Z"
    }
   },
   "outputs": [
    {
     "name": "stderr",
     "output_type": "stream",
     "text": [
      "C:\\Users\\slongstreet\\AppData\\Local\\Continuum\\anaconda3\\lib\\site-packages\\ipykernel_launcher.py:1: SettingWithCopyWarning: \n",
      "A value is trying to be set on a copy of a slice from a DataFrame.\n",
      "Try using .loc[row_indexer,col_indexer] = value instead\n",
      "\n",
      "See the caveats in the documentation: http://pandas.pydata.org/pandas-docs/stable/indexing.html#indexing-view-versus-copy\n",
      "  \"\"\"Entry point for launching an IPython kernel.\n"
     ]
    }
   ],
   "source": [
    "noise_complaints['hour']=noise_complaints['Created Date'].dt.hour"
   ]
  },
  {
   "cell_type": "markdown",
   "metadata": {},
   "source": [
    "_The Python language and third-party packages are constantly being updated. Here, we see an example of a depreciation warning (the text in the pink block). The code has run without any issues, but it has let us know that there is a newer, preferrred way of running the same script(s). In the future, this old method will not work anymore._\n",
    "\n",
    "Can you follow the suggestion in the pink block to remove the deprecation warning?"
   ]
  },
  {
   "cell_type": "markdown",
   "metadata": {},
   "source": [
    "# Second: Using IPython\n",
    "### Review Python Basics\n",
    "\n",
    "Test your skills by answering the following questions:"
   ]
  },
  {
   "cell_type": "markdown",
   "metadata": {},
   "source": [
    "#### Question 1.  Divide 10 by 20 and set the result to a variable named \"A\""
   ]
  },
  {
   "cell_type": "code",
   "execution_count": null,
   "metadata": {
    "collapsed": true
   },
   "outputs": [],
   "source": [
    "# In Python 3, dividing two integers may result in a float.\n",
    "\n",
    "# Insert your code here and then uncomment | print A | when you are ready to test it. \n",
    "\n",
    "# print(A)"
   ]
  },
  {
   "cell_type": "markdown",
   "metadata": {},
   "source": [
    "Often, you will see Python programmers writing integer division as it is written below -- a float divided by an integer (or vice versa).\n",
    "\n",
    "This is because in Python 2, dividing two integers always yields an integer result. In Python 2, 10 / 20 yields 0 (it truncates the decimal 0.5)."
   ]
  },
  {
   "cell_type": "code",
   "execution_count": 12,
   "metadata": {},
   "outputs": [
    {
     "name": "stdout",
     "output_type": "stream",
     "text": [
      "0.5\n"
     ]
    }
   ],
   "source": [
    "A = 10.0 / 20\n",
    "print(A)"
   ]
  },
  {
   "cell_type": "markdown",
   "metadata": {},
   "source": [
    "#### Question 2. Create a function called `division` that will divide any two numbers and print the result (with decimals). \n",
    "\n",
    "For example, `division(10, 20)` will print `0.5`.\n",
    "\n",
    "Call your function. Confirm that the results are as expected."
   ]
  },
  {
   "cell_type": "code",
   "execution_count": null,
   "metadata": {
    "collapsed": true
   },
   "outputs": [],
   "source": [
    "# add your function here\n",
    "\n"
   ]
  },
  {
   "cell_type": "markdown",
   "metadata": {},
   "source": [
    "#### Question 3. Using .split() split my string into separate words in a variable named `words`"
   ]
  },
  {
   "cell_type": "code",
   "execution_count": null,
   "metadata": {
    "collapsed": true
   },
   "outputs": [],
   "source": [
    "my_string = \"the cow jumped over the moon\"\n",
    "# put your code here it should return ['the', 'cow', 'jumped', 'over', 'the', 'moon']\n",
    "\n",
    "# print(words)"
   ]
  },
  {
   "cell_type": "markdown",
   "metadata": {},
   "source": [
    "#### Question 4. How many words are in `my_string`?"
   ]
  },
  {
   "cell_type": "code",
   "execution_count": null,
   "metadata": {
    "collapsed": true
   },
   "outputs": [],
   "source": []
  },
  {
   "cell_type": "markdown",
   "metadata": {},
   "source": [
    "#### Question 5. Use a list comprehension to find the length of each word in `my_string`\n",
    "\n",
    "result: `[3, 3, 6, 4, 3, 4]`"
   ]
  },
  {
   "cell_type": "code",
   "execution_count": null,
   "metadata": {
    "collapsed": true
   },
   "outputs": [],
   "source": []
  },
  {
   "cell_type": "markdown",
   "metadata": {},
   "source": [
    "#### Question 6. Put the words back together in a variable called sentence using `.join()`\n",
    "\n",
    "result: `the cow jumped over the moon`"
   ]
  },
  {
   "cell_type": "code",
   "execution_count": null,
   "metadata": {
    "collapsed": true
   },
   "outputs": [],
   "source": []
  },
  {
   "cell_type": "markdown",
   "metadata": {},
   "source": [
    "#### Bonus: Add a \"||\" between each word\n",
    "\n",
    "Hint: Look up the documentation for `join`\n",
    "\n",
    "result: `the||cow||jumped||over||the||moon`"
   ]
  },
  {
   "cell_type": "code",
   "execution_count": null,
   "metadata": {
    "collapsed": true
   },
   "outputs": [],
   "source": []
  }
 ],
 "metadata": {
  "kernelspec": {
   "display_name": "Python 3",
   "language": "python",
   "name": "python3"
  },
  "language_info": {
   "codemirror_mode": {
    "name": "ipython",
    "version": 3
   },
   "file_extension": ".py",
   "mimetype": "text/x-python",
   "name": "python",
   "nbconvert_exporter": "python",
   "pygments_lexer": "ipython3",
   "version": "3.7.3"
  }
 },
 "nbformat": 4,
 "nbformat_minor": 1
}
